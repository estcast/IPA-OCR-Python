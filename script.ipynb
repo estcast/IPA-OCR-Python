{
 "cells": [
  {
   "cell_type": "markdown",
   "id": "bcfc74ed-fc2d-4a51-b368-aec9f6d5b1f4",
   "metadata": {},
   "source": [
    "## Read a normal PDF file with selectable text."
   ]
  },
  {
   "cell_type": "code",
   "execution_count": 43,
   "id": "65423eae-02ed-4f7a-a595-17a09d6bdef4",
   "metadata": {},
   "outputs": [],
   "source": [
    "import PyPDF2 as pdf    #pip install PyPDF2"
   ]
  },
  {
   "cell_type": "code",
   "execution_count": 45,
   "id": "143d074d-bb46-4d2f-bf7d-f432e52b4a7d",
   "metadata": {},
   "outputs": [],
   "source": [
    "pdfFileObject = open(r'.\\resources\\invoice.pdf', 'rb')\n",
    "pdfReader = pdf.PdfReader(pdfFileObject)"
   ]
  },
  {
   "cell_type": "code",
   "execution_count": 47,
   "id": "22a82ca2-fb89-4dab-885e-7fd2d764cba0",
   "metadata": {},
   "outputs": [],
   "source": [
    "pag_0 = pdfReader.pages[0]"
   ]
  },
  {
   "cell_type": "code",
   "execution_count": 49,
   "id": "1c80be8a-bf83-4543-9d5c-24c181de14d9",
   "metadata": {},
   "outputs": [
    {
     "data": {
      "text/plain": [
       "'Dino Store\\n227 Cobblestone Road\\n30000 Bedrock, Cobblestone County\\n+555 7 789-1234\\nhttps://dinostore.bed | hello@dinostore.bedPayment details:\\nACC:123006705\\nIBAN:US100000060345\\nSWIFT:BOA447\\nBill to:\\nSlate Rock and Gravel Company\\n222 Rocky Way\\n30000 Bedrock, Cobblestone County\\n+555 7 123-5555\\nfred@slaterockgravel.bedInvoice No. 1\\nInvoice Date: 22.08.2024\\nIssue Date: 22.08.2024\\nDue Date: 21.09.2024\\nINVOICE\\nItem Quantity PriceDiscount Tax Linetotal\\n1Frozen Brontosaurus Ribs 1 100,00 € 0% 19% 100,00 €\\nSubtotal: 100,00 €\\nTax 19%: 19,00 €\\nTotal: 119,00 €\\nTerms & Notes\\nFred, thank you very much. We really appreciate your business.\\nPlease send payments before the due date.'"
      ]
     },
     "execution_count": 49,
     "metadata": {},
     "output_type": "execute_result"
    }
   ],
   "source": [
    "pag_0.extract_text()"
   ]
  },
  {
   "cell_type": "markdown",
   "id": "97d037cd-fd8f-440e-a0c5-15682f5b3d42",
   "metadata": {},
   "source": [
    "## Read an image with non selectable text."
   ]
  },
  {
   "cell_type": "code",
   "execution_count": 1,
   "id": "cf57b090-20e8-478a-8235-ad411576b22b",
   "metadata": {},
   "outputs": [],
   "source": [
    "import pytesseract                         #pip install pytesseract\n",
    "from PIL import Image                      #pip install pytesseract pillow\n",
    "from pdf2image import convert_from_path    #pip3 install pdf2image\n",
    "from pathlib import Path"
   ]
  },
  {
   "cell_type": "code",
   "execution_count": 51,
   "id": "8c270c69-d1d3-4e8c-b04e-3a53ab69ad88",
   "metadata": {},
   "outputs": [],
   "source": [
    "#Entry file\n",
    "PDF_File = Path(r\".\\resources\\invoice.pdf\")"
   ]
  },
  {
   "cell_type": "code",
   "execution_count": 55,
   "id": "7dbacdb6-28bc-4606-83c4-cbf62213aab0",
   "metadata": {},
   "outputs": [],
   "source": [
    "#Output file\n",
    "Text_file = Path(r\".\\results\\invoice.txt\")"
   ]
  },
  {
   "cell_type": "code",
   "execution_count": null,
   "id": "de53f36c-dd93-451e-a92c-b9643d1da26e",
   "metadata": {},
   "outputs": [],
   "source": [
    "#Set Tesseract\n",
    "pytesseract.pytesseract.tesseract_cmd = (r\"C:\\workspace\\Tesserac-OCR\\tesseract.exe\")"
   ]
  },
  {
   "cell_type": "code",
   "execution_count": 1,
   "id": "100cae2c-06fc-4daf-86c0-b9b77de3187d",
   "metadata": {},
   "outputs": [
    {
     "ename": "NameError",
     "evalue": "name 'Path' is not defined",
     "output_type": "error",
     "traceback": [
      "\u001b[1;31m---------------------------------------------------------------------------\u001b[0m",
      "\u001b[1;31mNameError\u001b[0m                                 Traceback (most recent call last)",
      "Cell \u001b[1;32mIn[1], line 2\u001b[0m\n\u001b[0;32m      1\u001b[0m \u001b[38;5;66;03m#Set poppler\u001b[39;00m\n\u001b[1;32m----> 2\u001b[0m path_to_poppler_exe \u001b[38;5;241m=\u001b[39m Path(\u001b[38;5;124mr\u001b[39m\u001b[38;5;124m\"\u001b[39m\u001b[38;5;124mC:\u001b[39m\u001b[38;5;124m\\\u001b[39m\u001b[38;5;124mworkspace\u001b[39m\u001b[38;5;124m\\\u001b[39m\u001b[38;5;124mpoppler-0.68.0\u001b[39m\u001b[38;5;124m\\\u001b[39m\u001b[38;5;124mbin\u001b[39m\u001b[38;5;124m\"\u001b[39m)\n",
      "\u001b[1;31mNameError\u001b[0m: name 'Path' is not defined"
     ]
    }
   ],
   "source": [
    "#Set poppler\n",
    "path_to_poppler_exe = Path(r\"C:\\workspace\\poppler-0.68.0\\bin\")"
   ]
  },
  {
   "cell_type": "code",
   "execution_count": 13,
   "id": "11e58284-a2b0-424e-b1ff-860e4baf862b",
   "metadata": {},
   "outputs": [],
   "source": [
    "#Read pdf file with 500px resolution\n",
    "pdf_pages = convert_from_path(PDF_File, 500, poppler_path=path_to_poppler_exe)"
   ]
  },
  {
   "cell_type": "code",
   "execution_count": 15,
   "id": "19df1721-2062-4fca-b10e-9e48d1533fb7",
   "metadata": {},
   "outputs": [
    {
     "data": {
      "text/plain": [
       "[<PIL.PpmImagePlugin.PpmImageFile image mode=RGB size=4132x5847>]"
      ]
     },
     "execution_count": 15,
     "metadata": {},
     "output_type": "execute_result"
    }
   ],
   "source": [
    "pdf_pages"
   ]
  },
  {
   "cell_type": "code",
   "execution_count": 25,
   "id": "f1ef5622-53f5-4d4e-a3f9-3a2811c87850",
   "metadata": {},
   "outputs": [],
   "source": [
    "tempDir = r\".\\results\""
   ]
  },
  {
   "cell_type": "code",
   "execution_count": 57,
   "id": "bf1f97fc-37dc-4f50-981a-dc0882a00366",
   "metadata": {},
   "outputs": [],
   "source": [
    "#We need to save each page in separate images.\n",
    "image_file_list = []\n",
    "for page_enumeration, page in enumerate(pdf_pages, start=1):\n",
    "    filename = f\"{tempDir}/page_{page_enumeration:03}.jpg\"\n",
    "    page.save(filename, \"JPEG\")\n",
    "    image_file_list.append(filename)"
   ]
  },
  {
   "cell_type": "code",
   "execution_count": 59,
   "id": "0ebfc5ed-1ce9-4a9e-b401-87107143a78a",
   "metadata": {},
   "outputs": [],
   "source": [
    "#Text recognition by OCR\n",
    "with open(Text_file, \"a\") as output_file:\n",
    "    for image_file in image_file_list:\n",
    "        text = str(((pytesseract.image_to_string(Image.open(image_file)))))\n",
    "        text = text.replace(\"-\\n\", \"\")\n",
    "        output_file.write(text)"
   ]
  }
 ],
 "metadata": {
  "kernelspec": {
   "display_name": "Python 3 (ipykernel)",
   "language": "python",
   "name": "python3"
  },
  "language_info": {
   "codemirror_mode": {
    "name": "ipython",
    "version": 3
   },
   "file_extension": ".py",
   "mimetype": "text/x-python",
   "name": "python",
   "nbconvert_exporter": "python",
   "pygments_lexer": "ipython3",
   "version": "3.12.4"
  }
 },
 "nbformat": 4,
 "nbformat_minor": 5
}
